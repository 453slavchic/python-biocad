{
 "cells": [
  {
   "cell_type": "markdown",
   "metadata": {},
   "source": [
    "### Упражнение 1\n",
    "\n",
    "Ниже приведен код, в котором создается словарь, ключами которого, являются целые числа, а значениями квадраты этих чисел. На вход программе подается строка из целых чисел, разделенных пробелами. Перепишите код так, чтобы для преобразования входной строки в список целых чисел использовался генератор списков, а для создания словаря - генератор словарей (см. [lab2](https://github.com/mipt-cs/python-biocad/blob/master/lab2.ipynb))."
   ]
  },
  {
   "cell_type": "code",
   "execution_count": null,
   "metadata": {},
   "outputs": [],
   "source": [
    "l = []\n",
    "for num in input().split():\n",
    "    l.append(int(num))\n",
    "squares = {}\n",
    "for num in l:\n",
    "    squares[num] = num**2\n",
    "print(squares)"
   ]
  },
  {
   "cell_type": "markdown",
   "metadata": {},
   "source": [
    "### Упражнение 2\n",
    "\n",
    "Ниже приведена функция для вычисления n-го числа Фибоначчи. Модифицируйте ее так, чтобы в теле цикла было только одно выражение. Используйте множественное присваивание для `prev` и `next_`."
   ]
  },
  {
   "cell_type": "code",
   "execution_count": null,
   "metadata": {},
   "outputs": [],
   "source": [
    "def fib(n):\n",
    "    prev = 1\n",
    "    next_ = 1\n",
    "    for _ in range(n - 2):\n",
    "        tmp = prev + next_\n",
    "        prev = next_\n",
    "        next_ = tmp\n",
    "    return next_\n",
    "\n",
    "for i in range(20):\n",
    "    print(fib(i))"
   ]
  },
  {
   "cell_type": "markdown",
   "metadata": {},
   "source": [
    "### Упражнение 3\n",
    "\n"
   ]
  }
 ],
 "metadata": {
  "kernelspec": {
   "display_name": "Python 3",
   "language": "python",
   "name": "python3"
  },
  "language_info": {
   "codemirror_mode": {
    "name": "ipython",
    "version": 3
   },
   "file_extension": ".py",
   "mimetype": "text/x-python",
   "name": "python",
   "nbconvert_exporter": "python",
   "pygments_lexer": "ipython3",
   "version": "3.6.0"
  }
 },
 "nbformat": 4,
 "nbformat_minor": 2
}
